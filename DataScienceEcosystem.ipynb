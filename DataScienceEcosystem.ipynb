{
 "cells": [
  {
   "cell_type": "markdown",
   "id": "2d96a798-5348-4479-a8e4-3316a7aa09e5",
   "metadata": {},
   "source": [
    "# Data Science Tools and Ecosystems"
   ]
  },
  {
   "cell_type": "markdown",
   "id": "3ef51d73-74d0-49bc-bdad-ee48a0f70a2b",
   "metadata": {},
   "source": [
    "# Introduction\n",
    "In this notebook, Data Science Tools and Ecosystem are summarized."
   ]
  },
  {
   "cell_type": "markdown",
   "id": "6e6f0828-a6d6-43eb-b6d8-fe08cf615f40",
   "metadata": {},
   "source": [
    "# Some of the popular languages that Data Scientists use are:\n",
    "\n",
    "1. **Phyton**\n",
    "2. **R**\n",
    "3. **SQL**\n"
   ]
  },
  {
   "cell_type": "markdown",
   "id": "7ac5232c-104a-442d-982e-452317e1789c",
   "metadata": {},
   "source": [
    "# Some of the commonly used libraries used by Data Scientists include:\n",
    "\n",
    "## Phyton Libraries\n",
    "1. **NumPy**\n",
    "2. **TensorFlow**\n",
    "3. **PyTorch**\n",
    "\n",
    "## R Libaries\n",
    "1. **caret**\n",
    "2. **ggplot2**\n",
    "3. **dplyr**\n",
    "\n"
   ]
  },
  {
   "cell_type": "markdown",
   "id": "3501120c-f64b-4617-9ddd-51dc4694c92b",
   "metadata": {},
   "source": [
    "# **Objectives**\n",
    "\n",
    "* Popular languages data scientists use\n",
    "* Commonly used Libraries\n",
    "* Data Science tools"
   ]
  },
  {
   "cell_type": "markdown",
   "id": "250fb208-fbf8-4a4b-bbb3-30c6adbbb97a",
   "metadata": {},
   "source": [
    "# Data Science Tools\n",
    "\n",
    "| Tool Name | Category |\n",
    "|------------|----------|\n",
    "Jupyter Notebook | Development Environment\n",
    "RStudio | Development Environment\n",
    "VS Code | Development Environment\n"
   ]
  },
  {
   "cell_type": "markdown",
   "id": "2256f081-fdfd-4982-900c-af7cb0a4bed1",
   "metadata": {},
   "source": [
    "### Below are a few examples of evaluating arithmetic expressions in Phyton"
   ]
  },
  {
   "cell_type": "code",
   "execution_count": 8,
   "id": "c832220c-dc8b-4d75-ba2a-2090715f3017",
   "metadata": {},
   "outputs": [
    {
     "data": {
      "text/plain": [
       "17"
      ]
     },
     "execution_count": 8,
     "metadata": {},
     "output_type": "execute_result"
    }
   ],
   "source": [
    "# This is a simple arithmetic expression to multiply then add integers\n",
    "\n",
    "(3*4)+5"
   ]
  },
  {
   "cell_type": "code",
   "execution_count": 10,
   "id": "1373e440-ae64-4d6c-8546-15e5f782ad42",
   "metadata": {},
   "outputs": [
    {
     "data": {
      "text/plain": [
       "3.3333333333333335"
      ]
     },
     "execution_count": 10,
     "metadata": {},
     "output_type": "execute_result"
    }
   ],
   "source": [
    "# This will convert 200 minutes to hours by dividing by 60\n",
    "\n",
    "# Convert 200 minutes to hours\n",
    "hours = 200 / 60\n",
    "hours\n",
    "\n"
   ]
  },
  {
   "cell_type": "markdown",
   "id": "383bb096-80af-4461-81b6-3dd0c958073e",
   "metadata": {},
   "source": [
    "## Author\n",
    "Patricia Parker"
   ]
  },
  {
   "cell_type": "code",
   "execution_count": null,
   "id": "2c67123e-1e16-4d58-b40d-5d268cb5c156",
   "metadata": {},
   "outputs": [],
   "source": []
  }
 ],
 "metadata": {
  "kernelspec": {
   "display_name": "Python [conda env:base] *",
   "language": "python",
   "name": "conda-base-py"
  },
  "language_info": {
   "codemirror_mode": {
    "name": "ipython",
    "version": 3
   },
   "file_extension": ".py",
   "mimetype": "text/x-python",
   "name": "python",
   "nbconvert_exporter": "python",
   "pygments_lexer": "ipython3",
   "version": "3.12.7"
  }
 },
 "nbformat": 4,
 "nbformat_minor": 5
}
